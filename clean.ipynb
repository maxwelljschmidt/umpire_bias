{
 "cells": [
  {
   "cell_type": "code",
   "execution_count": 1,
   "metadata": {},
   "outputs": [],
   "source": [
    "import pandas as pd\n",
    "import matplotlib.pyplot as plt\n",
    "import matplotlib.patches as patch\n",
    "import matplotlib.colors as mcolors\n",
    "import numpy as np\n",
    "import collections\n",
    "import seaborn as sns"
   ]
  },
  {
   "cell_type": "code",
   "execution_count": 4,
   "metadata": {},
   "outputs": [
    {
     "name": "stderr",
     "output_type": "stream",
     "text": [
      "/opt/anaconda3/lib/python3.7/site-packages/IPython/core/interactiveshell.py:3063: DtypeWarning: Columns (1,24,44,88,89,93) have mixed types.Specify dtype option on import or set low_memory=False.\n",
      "  interactivity=interactivity, compiler=compiler, result=result)\n"
     ]
    }
   ],
   "source": [
    "data = pd.read_csv('pitch_data_2008_2021')"
   ]
  },
  {
   "cell_type": "code",
   "execution_count": 5,
   "metadata": {},
   "outputs": [],
   "source": [
    "pitch_data = data[['pitch_name', 'plate_x', 'plate_z', 'description', 'stand']]"
   ]
  },
  {
   "cell_type": "code",
   "execution_count": 6,
   "metadata": {},
   "outputs": [
    {
     "name": "stderr",
     "output_type": "stream",
     "text": [
      "/opt/anaconda3/lib/python3.7/site-packages/pandas/core/generic.py:6746: SettingWithCopyWarning: \n",
      "A value is trying to be set on a copy of a slice from a DataFrame\n",
      "\n",
      "See the caveats in the documentation: https://pandas.pydata.org/pandas-docs/stable/user_guide/indexing.html#returning-a-view-versus-a-copy\n",
      "  self._update_inplace(new_data)\n"
     ]
    }
   ],
   "source": [
    "pitch_data['description'].replace('blocked_ball', 'ball', inplace = True)"
   ]
  },
  {
   "cell_type": "code",
   "execution_count": 7,
   "metadata": {},
   "outputs": [],
   "source": [
    "\n",
    "area_1_bounds = [-.725, -.241667, 2.833, 3.5]\n",
    "area_2_bounds = [-.241667, .241667, 2.833, 3.5]\n",
    "area_3_bounds = [.241667, .725, 2.833, 3.5]\n",
    "area_4_bounds = [-.725, -.241667, 2.166, 2.833]\n",
    "area_5_bounds = [-.241667, .241667, 2.166, 2.833]\n",
    "area_6_bounds = [.241667, .725, 2.166, 2.833]\n",
    "area_7_bounds = [-.725, -.241667, 1.5, 2.166]\n",
    "area_8_bounds = [-.241667, .241667, 1.5, 2.166]\n",
    "area_9_bounds = [.241667, .725, 1.5, 2.166]\n",
    "\n",
    "zones = [area_1_bounds, area_2_bounds, area_3_bounds, area_4_bounds, area_5_bounds, area_6_bounds, area_7_bounds, area_8_bounds, area_9_bounds]"
   ]
  },
  {
   "cell_type": "code",
   "execution_count": 8,
   "metadata": {},
   "outputs": [],
   "source": [
    "outside_rectangles = [[(-.9666,2.5), .24166, 1.333, (-.725, 3.5), .725, .333], [(.9666,2.5), -.24166, 1.333, (.725, 3.5), -.725, .333], [(-.9666,2.5), .24166, -1.333, (-.725, 1.5), .725, -.333], [(.9666,2.5), -.24166, -1.333, (.725, 1.5), -.725, -.333]]\n",
    "\n",
    "outside_1_bounds1 = [-.9666, -.725, 2.5, 3.833]\n",
    "outside_1_bounds2 = [-.725, 0, 3.5, 3.833]\n",
    "outside_2_bounds1 = [.725,.9666, 2.5, 3.833]\n",
    "outside_2_bounds2 = [.725, .9666, 3.5, 3.833]\n",
    "outside_3_bounds1 = [-.9666, -.725, 1.1666, 1.5]\n",
    "outside_3_bounds2 = [-.725, 0, 1.1666, 1.5]\n",
    "outside_4_bounds1 = [.725, .9666, 1.1666, 1.5]\n",
    "outside_4_bounds2 = [0, .725, 1.1666, 1.5]\n",
    "\n",
    "outside_zones = [(outside_1_bounds1, outside_1_bounds2), (outside_2_bounds1, outside_2_bounds2), (outside_3_bounds1, outside_3_bounds2), (outside_4_bounds1, outside_4_bounds2)]"
   ]
  },
  {
   "cell_type": "code",
   "execution_count": 9,
   "metadata": {},
   "outputs": [
    {
     "data": {
      "text/plain": [
       "[[-0.6583334999999999, 3.1165000000000003],\n",
       " [-0.175, 3.1165000000000003],\n",
       " [0.3083335, 3.1165000000000003],\n",
       " [-0.6583334999999999, 2.4495000000000005],\n",
       " [-0.175, 2.4495000000000005],\n",
       " [0.3083335, 2.4495000000000005],\n",
       " [-0.6583334999999999, 1.783],\n",
       " [-0.175, 1.783],\n",
       " [0.3083335, 1.783]]"
      ]
     },
     "execution_count": 9,
     "metadata": {},
     "output_type": "execute_result"
    }
   ],
   "source": [
    "centers = []\n",
    "for zone in zones:\n",
    "    zone_center = []\n",
    "    zone_center.append(((zone[1] - zone[0])/2 + zone[0])-.175)\n",
    "    zone_center.append((zone[3] - zone[2])/2 + zone[2]-.05)\n",
    "    centers.append(zone_center)\n",
    "centers"
   ]
  },
  {
   "cell_type": "code",
   "execution_count": 10,
   "metadata": {},
   "outputs": [],
   "source": [
    "def grab_pitches_from_zone(data, zone_bounds):\n",
    "    zone_data = data[data['plate_x'] > zone_bounds[0]]\n",
    "    zone_data = zone_data[zone_data['plate_x'] < zone_bounds[1]]\n",
    "    zone_data = zone_data[zone_data['plate_z'] > zone_bounds[2]]\n",
    "    zone_data = zone_data[zone_data['plate_z'] < zone_bounds[3]]\n",
    "    return zone_data\n",
    "def pct_correct_per_zone(data, zone_bounds):\n",
    "    zone_data = grab_pitches_from_zone(data, zone_bounds)\n",
    "    return (zone_data['description'].value_counts()['called_strike'] / zone_data['description'].size)*100\n",
    "def pct_correct_per_zone_outside(data, zone_bounds1, zone_bounds2):\n",
    "    zone_data1 = grab_pitches_from_zone(data, zone_bounds1)\n",
    "    zone_data2 = grab_pitches_from_zone(data, zone_bounds2)\n",
    "    return ((zone_data1['description'].value_counts()['called_strike'] + zone_data2['description'].value_counts()['called_strike']) / (zone_data1['description'].size + zone_data2['description'].size))*100"
   ]
  },
  {
   "cell_type": "code",
   "execution_count": 11,
   "metadata": {},
   "outputs": [],
   "source": [
    "def inside_zone_list(data):\n",
    "    inside_zone_list = []\n",
    "    for zone in zones:\n",
    "           inside_zone_list.append(pct_correct_per_zone(data, zone))\n",
    "    return inside_zone_list\n",
    "def outside_zone_list(data):\n",
    "    outside_zone_list = []\n",
    "    for zone in range(len(outside_zones)):\n",
    "        try:\n",
    "             outside_zone_list.append(pct_correct_per_zone_outside(data, outside_zones[zone][0], outside_zones[zone][1]))\n",
    "        except:\n",
    "            pass\n",
    "    return  outside_zone_list"
   ]
  },
  {
   "cell_type": "code",
   "execution_count": 12,
   "metadata": {},
   "outputs": [
    {
     "ename": "NameError",
     "evalue": "name 'changeups' is not defined",
     "output_type": "error",
     "traceback": [
      "\u001b[0;31m---------------------------------------------------------------------------\u001b[0m",
      "\u001b[0;31mNameError\u001b[0m                                 Traceback (most recent call last)",
      "\u001b[0;32m<ipython-input-12-58f4399959fb>\u001b[0m in \u001b[0;36m<module>\u001b[0;34m\u001b[0m\n\u001b[1;32m     35\u001b[0m \u001b[0max\u001b[0m\u001b[0;34m.\u001b[0m\u001b[0mset_yticks\u001b[0m\u001b[0;34m(\u001b[0m\u001b[0;34m[\u001b[0m\u001b[0;34m]\u001b[0m\u001b[0;34m)\u001b[0m\u001b[0;34m\u001b[0m\u001b[0;34m\u001b[0m\u001b[0m\n\u001b[1;32m     36\u001b[0m \u001b[0;34m\u001b[0m\u001b[0m\n\u001b[0;32m---> 37\u001b[0;31m \u001b[0;32mfor\u001b[0m \u001b[0mi\u001b[0m\u001b[0;34m,\u001b[0m \u001b[0mvalue\u001b[0m \u001b[0;32min\u001b[0m \u001b[0menumerate\u001b[0m\u001b[0;34m(\u001b[0m\u001b[0minside_zone_list\u001b[0m\u001b[0;34m(\u001b[0m\u001b[0mchangeups\u001b[0m\u001b[0;34m)\u001b[0m\u001b[0;34m)\u001b[0m\u001b[0;34m:\u001b[0m \u001b[0;31m#inside data here\u001b[0m\u001b[0;34m\u001b[0m\u001b[0;34m\u001b[0m\u001b[0m\n\u001b[0m\u001b[1;32m     38\u001b[0m     \u001b[0mrect\u001b[0m \u001b[0;34m=\u001b[0m \u001b[0mpatch\u001b[0m\u001b[0;34m.\u001b[0m\u001b[0mRectangle\u001b[0m\u001b[0;34m(\u001b[0m\u001b[0mrectangles\u001b[0m\u001b[0;34m[\u001b[0m\u001b[0mi\u001b[0m\u001b[0;34m]\u001b[0m\u001b[0;34m,\u001b[0m \u001b[0;36m.4833\u001b[0m\u001b[0;34m,\u001b[0m \u001b[0;36m.6666\u001b[0m\u001b[0;34m,\u001b[0m \u001b[0mlinewidth\u001b[0m\u001b[0;34m=\u001b[0m\u001b[0;36m1\u001b[0m\u001b[0;34m,\u001b[0m \u001b[0medgecolor\u001b[0m\u001b[0;34m=\u001b[0m\u001b[0;34m'black'\u001b[0m\u001b[0;34m,\u001b[0m \u001b[0mfacecolor\u001b[0m\u001b[0;34m=\u001b[0m\u001b[0mcmap\u001b[0m\u001b[0;34m(\u001b[0m\u001b[0mnorm\u001b[0m\u001b[0;34m(\u001b[0m\u001b[0mvalue\u001b[0m\u001b[0;34m)\u001b[0m\u001b[0;34m)\u001b[0m\u001b[0;34m)\u001b[0m\u001b[0;34m\u001b[0m\u001b[0;34m\u001b[0m\u001b[0m\n\u001b[1;32m     39\u001b[0m     \u001b[0max\u001b[0m\u001b[0;34m.\u001b[0m\u001b[0madd_patch\u001b[0m\u001b[0;34m(\u001b[0m\u001b[0mrect\u001b[0m\u001b[0;34m)\u001b[0m\u001b[0;34m\u001b[0m\u001b[0;34m\u001b[0m\u001b[0m\n",
      "\u001b[0;31mNameError\u001b[0m: name 'changeups' is not defined"
     ]
    },
    {
     "data": {
      "image/png": "[encoded data removed]",
      "text/plain": [
       "<Figure size 720x720 with 1 Axes>"
      ]
     },
     "metadata": {},
     "output_type": "display_data"
    }
   ],
   "source": [
    "cmap = plt.get_cmap('coolwarm')\n",
    "out_norm = mcolors.Normalize(vmin=0, vmax=50)\n",
    "outside_rectangles = [[(-.9666,2.5), .24166, 1.333, (-.725, 3.5), .725, .333], [(.9666,2.5), -.24166, 1.333, (.725, 3.5), -.725, .333], [(-.9666,2.5), .24166, -1.333, (-.725, 1.5), .725, -.333], [(.9666,2.5), -.24166, -1.333, (.725, 1.5), -.725, -.333]]\n",
    "cmap = plt.get_cmap('coolwarm')\n",
    "norm = mcolors.Normalize(vmin=60, vmax=100)\n",
    "rectangles = [(-.725,2.833), (-.241667,2.833), (.241667, 2.833), (-.725,2.166), (-.241667,2.166), (.241667, 2.166), (-.725,1.5), (-.241667,1.5), (.241667, 1.5)]\n",
    "\n",
    "fig, ax = plt.subplots(figsize =(10,10))\n",
    "\n",
    "plt.plot([-2,-2],[0,5], color=\"black\")\n",
    "plt.plot([2,2],[0,5], color=\"black\")\n",
    "plt.plot([-2,2],[0,0], color=\"black\")\n",
    "plt.plot([-2,2],[5,5], color=\"black\")\n",
    "\n",
    "plt.plot([-.725,-.725],[1.5,3.5], color=\"black\")\n",
    "plt.plot([.725,.725],[1.5,3.5], color=\"black\")\n",
    "plt.plot([-.725,.725],[1.5,1.5], color=\"black\")\n",
    "plt.plot([-.725,.725],[3.5,3.5], color=\"black\")\n",
    "\n",
    "plt.plot([-.9666,-.9666],[1.1666,3.833], color=\"black\")\n",
    "plt.plot([.9666,.9666],[1.1666,3.833], color=\"black\")\n",
    "plt.plot([-.9666,.9666],[1.166,1.166], color=\"black\")\n",
    "plt.plot([-.9666,.9666],[3.833,3.833], color=\"black\")\n",
    "\n",
    "plt.plot([0,0],[3.5,3.833], color=\"black\")\n",
    "plt.plot([0,0],[1.16666,1.5], color=\"black\")\n",
    "plt.plot([-.9666,-.725],[2.5,2.5], color=\"black\")\n",
    "plt.plot([.725,.9666],[2.5,2.5], color=\"black\")\n",
    "\n",
    "ax.spines['top'].set_visible(False)\n",
    "ax.spines['right'].set_visible(False)\n",
    "ax.spines['left'].set_visible(False)\n",
    "ax.spines['bottom'].set_visible(False)\n",
    "ax.set_xticks([])\n",
    "ax.set_yticks([])\n",
    "\n",
    "for i, value in enumerate(inside_zone_list(changeups)): #inside data here\n",
    "    rect = patch.Rectangle(rectangles[i], .4833, .6666, linewidth=1, edgecolor='black', facecolor=cmap(norm(value)))\n",
    "    ax.add_patch(rect)\n",
    "    ax.text(centers[i][0], centers[i][1], '{:.2f}%'.format(pitches_dict[pitch][i]), fontsize = 13)\n",
    "\n",
    "for i, value in enumerate(outside_zone_list(changeups)): #outside_data_here\n",
    "    rect1 =  patch.Rectangle(outside_rectangles[i][0], outside_rectangles[i][1], outside_rectangles[i][2], linewidth=0, edgecolor='black', facecolor=cmap(out_norm(value)))\n",
    "    rect2 = patch.Rectangle(outside_rectangles[i][3], outside_rectangles[i][4], outside_rectangles[i][5], linewidth=0, edgecolor='black', facecolor=cmap(out_norm(value)))\n",
    "    ax.add_patch(rect1)\n",
    "    ax.add_patch(rect2)\n",
    "\n",
    "ax.set_title(pitch)\n",
    "\n",
    "plt.show()"
   ]
  },
  {
   "cell_type": "code",
   "execution_count": null,
   "metadata": {},
   "outputs": [],
   "source": []
  }
 ],
 "metadata": {
  "kernelspec": {
   "display_name": "Python 3",
   "language": "python",
   "name": "python3"
  },
  "language_info": {
   "codemirror_mode": {
    "name": "ipython",
    "version": 3
   },
   "file_extension": ".py",
   "mimetype": "text/x-python",
   "name": "python",
   "nbconvert_exporter": "python",
   "pygments_lexer": "ipython3",
   "version": "3.7.6"
  }
 },
 "nbformat": 4,
 "nbformat_minor": 4
}
